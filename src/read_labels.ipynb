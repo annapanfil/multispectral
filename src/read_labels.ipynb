{
 "cells": [
  {
   "cell_type": "code",
   "execution_count": 2,
   "metadata": {},
   "outputs": [
    {
     "ename": "FileNotFoundError",
     "evalue": "[Errno 2] No such file or directory: '/home/anna/Datasets/annotation/annotated_yolo/data_config.yaml'",
     "output_type": "error",
     "traceback": [
      "\u001b[0;31m---------------------------------------------------------------------------\u001b[0m",
      "\u001b[0;31mFileNotFoundError\u001b[0m                         Traceback (most recent call last)",
      "Cell \u001b[0;32mIn[2], line 39\u001b[0m\n\u001b[1;32m     34\u001b[0m     plt\u001b[38;5;241m.\u001b[39mshow()\n\u001b[1;32m     37\u001b[0m path \u001b[38;5;241m=\u001b[39m \u001b[38;5;124m\"\u001b[39m\u001b[38;5;124m/home/anna/Datasets/annotation/annotated_yolo\u001b[39m\u001b[38;5;124m\"\u001b[39m\n\u001b[0;32m---> 39\u001b[0m \u001b[38;5;28;01mwith\u001b[39;00m \u001b[38;5;28;43mopen\u001b[39;49m\u001b[43m(\u001b[49m\u001b[38;5;124;43mf\u001b[39;49m\u001b[38;5;124;43m\"\u001b[39;49m\u001b[38;5;132;43;01m{\u001b[39;49;00m\u001b[43mpath\u001b[49m\u001b[38;5;132;43;01m}\u001b[39;49;00m\u001b[38;5;124;43m/data_config.yaml\u001b[39;49m\u001b[38;5;124;43m\"\u001b[39;49m\u001b[43m,\u001b[49m\u001b[43m \u001b[49m\u001b[38;5;124;43m\"\u001b[39;49m\u001b[38;5;124;43mr\u001b[39;49m\u001b[38;5;124;43m\"\u001b[39;49m\u001b[43m)\u001b[49m \u001b[38;5;28;01mas\u001b[39;00m file:\n\u001b[1;32m     40\u001b[0m     config \u001b[38;5;241m=\u001b[39m yaml\u001b[38;5;241m.\u001b[39msafe_load(file)\n\u001b[1;32m     42\u001b[0m draw_yolo_boxes(\u001b[38;5;124mf\u001b[39m\u001b[38;5;124m\"\u001b[39m\u001b[38;5;132;01m{\u001b[39;00mpath\u001b[38;5;132;01m}\u001b[39;00m\u001b[38;5;124m/images/train/997287_9:00_0019_5_RGB.png\u001b[39m\u001b[38;5;124m\"\u001b[39m, \u001b[38;5;124mf\u001b[39m\u001b[38;5;124m\"\u001b[39m\u001b[38;5;132;01m{\u001b[39;00mpath\u001b[38;5;132;01m}\u001b[39;00m\u001b[38;5;124m/labels_joined/train/997287_9:00_0019_5_RGB.txt\u001b[39m\u001b[38;5;124m\"\u001b[39m, \n\u001b[1;32m     43\u001b[0m config[\u001b[38;5;124m\"\u001b[39m\u001b[38;5;124mnames\u001b[39m\u001b[38;5;124m\"\u001b[39m])\n",
      "File \u001b[0;32m~/miniconda3/envs/micasense/lib/python3.8/site-packages/IPython/core/interactiveshell.py:284\u001b[0m, in \u001b[0;36m_modified_open\u001b[0;34m(file, *args, **kwargs)\u001b[0m\n\u001b[1;32m    277\u001b[0m \u001b[38;5;28;01mif\u001b[39;00m file \u001b[38;5;129;01min\u001b[39;00m {\u001b[38;5;241m0\u001b[39m, \u001b[38;5;241m1\u001b[39m, \u001b[38;5;241m2\u001b[39m}:\n\u001b[1;32m    278\u001b[0m     \u001b[38;5;28;01mraise\u001b[39;00m \u001b[38;5;167;01mValueError\u001b[39;00m(\n\u001b[1;32m    279\u001b[0m         \u001b[38;5;124mf\u001b[39m\u001b[38;5;124m\"\u001b[39m\u001b[38;5;124mIPython won\u001b[39m\u001b[38;5;124m'\u001b[39m\u001b[38;5;124mt let you open fd=\u001b[39m\u001b[38;5;132;01m{\u001b[39;00mfile\u001b[38;5;132;01m}\u001b[39;00m\u001b[38;5;124m by default \u001b[39m\u001b[38;5;124m\"\u001b[39m\n\u001b[1;32m    280\u001b[0m         \u001b[38;5;124m\"\u001b[39m\u001b[38;5;124mas it is likely to crash IPython. If you know what you are doing, \u001b[39m\u001b[38;5;124m\"\u001b[39m\n\u001b[1;32m    281\u001b[0m         \u001b[38;5;124m\"\u001b[39m\u001b[38;5;124myou can use builtins\u001b[39m\u001b[38;5;124m'\u001b[39m\u001b[38;5;124m open.\u001b[39m\u001b[38;5;124m\"\u001b[39m\n\u001b[1;32m    282\u001b[0m     )\n\u001b[0;32m--> 284\u001b[0m \u001b[38;5;28;01mreturn\u001b[39;00m \u001b[43mio_open\u001b[49m\u001b[43m(\u001b[49m\u001b[43mfile\u001b[49m\u001b[43m,\u001b[49m\u001b[43m \u001b[49m\u001b[38;5;241;43m*\u001b[39;49m\u001b[43margs\u001b[49m\u001b[43m,\u001b[49m\u001b[43m \u001b[49m\u001b[38;5;241;43m*\u001b[39;49m\u001b[38;5;241;43m*\u001b[39;49m\u001b[43mkwargs\u001b[49m\u001b[43m)\u001b[49m\n",
      "\u001b[0;31mFileNotFoundError\u001b[0m: [Errno 2] No such file or directory: '/home/anna/Datasets/annotation/annotated_yolo/data_config.yaml'"
     ]
    }
   ],
   "source": [
    "import cv2\n",
    "from matplotlib import pyplot as plt\n",
    "import yaml\n",
    "\n",
    "\n",
    "def draw_yolo_boxes(image_path, label_path, class_names):\n",
    "    \"\"\" Draw bounding boxes in yolo format on image\"\"\"\n",
    "    image = cv2.imread(image_path)\n",
    "    image_height, image_width = image.shape[:2]\n",
    "\n",
    "    print(image_width, image_height)\n",
    "    \n",
    "    # Open and parse YOLO label file\n",
    "    with open(label_path, \"r\") as f:\n",
    "        for line in f:\n",
    "            class_id, center_x, center_y, width, height = map(float, line.split())\n",
    "            class_id = int(class_id)\n",
    "\n",
    "            \n",
    "            # Convert YOLO format to pixel values\n",
    "            x1 = int((center_x - (width / 2)) * image_width)\n",
    "            x2 = int((center_x + (width / 2)) * image_width)\n",
    "            y1 = int((center_y - (height / 2)) * image_height)\n",
    "            y2 = int((center_y + (height / 2)) * image_height)\n",
    "\n",
    "            print(x1, x2, y1, y2)\n",
    "            \n",
    "            # Draw the rectangle and label\n",
    "            cv2.rectangle(image, (x1, y1), (x2,y2), (0, 255, 0), 5)\n",
    "            cv2.putText(image, class_names[class_id], (x1, y1 - 10), cv2.FONT_HERSHEY_SIMPLEX, 2, (0, 255, 0), 2)\n",
    "\n",
    "    # Display the image\n",
    "    plt.imshow(image)\n",
    "    plt.show()\n",
    "\n",
    "\n",
    "path = \"/home/anna/Datasets/annotation/annotated_yolo\"\n",
    "\n",
    "with open(f\"{path}/data_config.yaml\", \"r\") as file:\n",
    "    config = yaml.safe_load(file)\n",
    "\n",
    "draw_yolo_boxes(f\"{path}/images/train/997287_9:00_0019_5_RGB.png\", f\"{path}/labels_joined/train/997287_9:00_0019_5_RGB.txt\", \n",
    "config[\"names\"])\n"
   ]
  },
  {
   "cell_type": "code",
   "execution_count": 6,
   "metadata": {},
   "outputs": [
    {
     "name": "stdout",
     "output_type": "stream",
     "text": [
      "Merged 13 bboxes in 8 files and saved in /home/anna/Datasets/annotated/bags_labeled/labels_joined/train//997333_15:00_0007_25_x.txt\n",
      "Merged 14 bboxes in 8 files and saved in /home/anna/Datasets/annotated/bags_labeled/labels_joined/train//997332_12:00_0009_5_x.txt\n",
      "Merged 21 bboxes in 8 files and saved in /home/anna/Datasets/annotated/bags_labeled/labels_joined/train//997332_12:00_0001_26_x.txt\n",
      "Merged 14 bboxes in 8 files and saved in /home/anna/Datasets/annotated/bags_labeled/labels_joined/train//997287_9:00_0010_20_x.txt\n",
      "Merged 14 bboxes in 8 files and saved in /home/anna/Datasets/annotated/bags_labeled/labels_joined/train//997287_9:00_0018_10_x.txt\n",
      "Merged 12 bboxes in 8 files and saved in /home/anna/Datasets/annotated/bags_labeled/labels_joined/train//997333_15:00_0019_6_x.txt\n",
      "Merged 23 bboxes in 8 files and saved in /home/anna/Datasets/annotated/bags_labeled/labels_joined/train//997332_12:00_0008_9_x.txt\n",
      "Merged 13 bboxes in 8 files and saved in /home/anna/Datasets/annotated/bags_labeled/labels_joined/train//997333_15:00_0004_30_x.txt\n",
      "Merged 12 bboxes in 8 files and saved in /home/anna/Datasets/annotated/bags_labeled/labels_joined/train//997287_9:00_0019_5_x.txt\n",
      "Merged 22 bboxes in 8 files and saved in /home/anna/Datasets/annotated/bags_labeled/labels_joined/train//997332_12:00_0005_14_x.txt\n",
      "Merged 21 bboxes in 8 files and saved in /home/anna/Datasets/annotated/bags_labeled/labels_joined/train//997332_12:00_0002_23_x.txt\n",
      "Merged 16 bboxes in 8 files and saved in /home/anna/Datasets/annotated/bags_labeled/labels_joined/train//997333_15:00_0014_15_x.txt\n",
      "Merged 14 bboxes in 8 files and saved in /home/anna/Datasets/annotated/bags_labeled/labels_joined/train//997333_15:00_0009_20_x.txt\n",
      "Merged 14 bboxes in 8 files and saved in /home/anna/Datasets/annotated/bags_labeled/labels_joined/train//997287_9:00_0012_15_x.txt\n",
      "Merged 14 bboxes in 8 files and saved in /home/anna/Datasets/annotated/bags_labeled/labels_joined/train//997287_9:00_0004_30_x.txt\n",
      "Merged 14 bboxes in 8 files and saved in /home/anna/Datasets/annotated/bags_labeled/labels_joined/train//997287_9:00_0006_25_x.txt\n",
      "Merged 16 bboxes in 8 files and saved in /home/anna/Datasets/annotated/bags_labeled/labels_joined/train//997333_15:00_0017_10_x.txt\n",
      "Merged 20 bboxes in 8 files and saved in /home/anna/Datasets/annotated/bags_labeled/labels_joined/train//997332_12:00_0003_18_x.txt\n"
     ]
    }
   ],
   "source": [
    "import os\n",
    "\n",
    "\n",
    "def merge_bbs_from_all_channels(path:str, common_fn:str, out_path:str):\n",
    "    files = [file for file in os.listdir(path) if file.startswith(common_fn)]\n",
    "    bbs = set()\n",
    "    for file in files:\n",
    "        with open(os.path.join(path.replace(\"images\", \"labels\"), file.split(\".\")[0]+\".txt\"), \"r\") as f:\n",
    "            for line in f:\n",
    "                bbs.add(line.replace(\"\\n\", \"\"))\n",
    "\n",
    "    if not os.path.exists(out_path):\n",
    "        os.makedirs(out_path)\n",
    "\n",
    "    for file in files:\n",
    "        with open(os.path.join(out_path, file.split(\".\")[0]+\".txt\"), \"w\") as f:\n",
    "            for line in bbs:\n",
    "                f.write(line)\n",
    "                f.write(\"\\n\")\n",
    "\n",
    "    print(f\"Merged {len(bbs)} bboxes in {len(files)} files and saved in {out_path}/{common_fn}_x.txt\")\n",
    "\n",
    "\n",
    "path = \"/home/anna/Datasets/annotated/bags_labeled\"\n",
    "\n",
    "common_fns = set(\"_\".join(file.split(\"_\")[:-1]) for file in os.listdir(f\"{path}/images/train/\"))\n",
    "for common_fn in common_fns:\n",
    "    merge_bbs_from_all_channels(f\"{path}/images/train/\", common_fn, f\"{path}/labels_joined/train/\")\n"
   ]
  },
  {
   "cell_type": "code",
   "execution_count": null,
   "metadata": {},
   "outputs": [
    {
     "data": {
      "text/plain": [
       "[<matplotlib.lines.Line2D at 0x7f531c1486a0>]"
      ]
     },
     "execution_count": 9,
     "metadata": {},
     "output_type": "execute_result"
    },
    {
     "data": {
      "image/png": "[encoded data removed]",
      "text/plain": [
       "<Figure size 640x480 with 1 Axes>"
      ]
     },
     "metadata": {},
     "output_type": "display_data"
    }
   ],
   "source": [
    "x= [0.2, 0.2, 0.7]\n",
    "y= [0.2, 0.5, 0.5]\n",
    "\n",
    "plt.plot(x,y)"
   ]
  },
  {
   "cell_type": "code",
   "execution_count": null,
   "metadata": {},
   "outputs": [],
   "source": []
  }
 ],
 "metadata": {
  "kernelspec": {
   "display_name": "micasense",
   "language": "python",
   "name": "python3"
  },
  "language_info": {
   "codemirror_mode": {
    "name": "ipython",
    "version": 3
   },
   "file_extension": ".py",
   "mimetype": "text/x-python",
   "name": "python",
   "nbconvert_exporter": "python",
   "pygments_lexer": "ipython3",
   "version": "3.8.20"
  }
 },
 "nbformat": 4,
 "nbformat_minor": 2
}
