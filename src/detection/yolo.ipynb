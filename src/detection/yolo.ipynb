{
 "cells": [
  {
   "cell_type": "code",
   "execution_count": null,
   "metadata": {},
   "outputs": [],
   "source": [
    "# !pip install ultralytics\n",
    "# !pip install clearml\n",
    "# !pip install clearml-agent"
   ]
  },
  {
   "cell_type": "code",
   "execution_count": null,
   "metadata": {},
   "outputs": [],
   "source": [
    "from clearml import Task\n",
    "\n",
    "Task.set_credentials(\n",
    "     api_host=\"https://api.clear.ml\",\n",
    "     web_host=\"https://app.clear.ml\",\n",
    "     files_host=\"https://files.clear.ml\",\n",
    "     key='R3KF8584CYHXTMATKOBMGBTKOR0GL8',\n",
    "     secret='iJTV32010g3PEL3Euv0b1cZaClWTuu3dlCx4oQOyLCoYo4rqk2RsSIaVePr-AX-yR7A'\n",
    ")\n",
    "\n",
    "task = Task.init(project_name='piles', task_name='piles_random_m13')"
   ]
  },
  {
   "cell_type": "code",
   "execution_count": null,
   "metadata": {},
   "outputs": [],
   "source": [
    "from ultralytics import YOLO\n",
    "\n",
    "# Load a model\n",
    "model = YOLO(\"yolov10s.pt\")  # load a pretrained model\n",
    "\n",
    "yaml_path = \"/home/anna/Datasets/created/piles_m13_random\" \n",
    "results = model.train(data=f\"{yaml_path}/piles_m13_random.yaml\", epochs=50, imgsz=[800, 608], batch=16, workers = 4)"
   ]
  },
  {
   "cell_type": "code",
   "execution_count": null,
   "metadata": {},
   "outputs": [],
   "source": [
    "task.close()"
   ]
  }
 ],
 "metadata": {
  "kernelspec": {
   "display_name": "micasense",
   "language": "python",
   "name": "python3"
  },
  "language_info": {
   "codemirror_mode": {
    "name": "ipython",
    "version": 3
   },
   "file_extension": ".py",
   "mimetype": "text/x-python",
   "name": "python",
   "nbconvert_exporter": "python",
   "pygments_lexer": "ipython3",
   "version": "3.8.20"
  }
 },
 "nbformat": 4,
 "nbformat_minor": 2
}
