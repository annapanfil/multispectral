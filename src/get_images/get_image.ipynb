{
 "cells": [
  {
   "cell_type": "code",
   "execution_count": null,
   "metadata": {},
   "outputs": [],
   "source": [
    "import requests\n",
    "import os\n",
    "\n",
    "output_dir = \"/home/anna/Obrazy/multispectral/from_http/\"\n",
    "\n",
    "url = \"http://192.168.10.254/capture\"\n",
    "params = {\n",
    "    \"block\": \"true\",\n",
    "    \"cache_jpg\": \"31\"\n",
    "}\n",
    "\n",
    "response = requests.get(url, params=params)"
   ]
  },
  {
   "cell_type": "code",
   "execution_count": 13,
   "metadata": {},
   "outputs": [],
   "source": [
    "raw_response = response\n",
    "response.text"
   ]
  },
  {
   "cell_type": "code",
   "execution_count": 8,
   "metadata": {},
   "outputs": [
    {
     "data": {
      "text/plain": [
       "{'id': 'dqi9PT9EDDU7HF0j3YpZ',\n",
       " 'raw_cache_path': {'1': '/images/tmp0.tif',\n",
       "  '2': '/images/tmp1.tif',\n",
       "  '3': '/images/tmp2.tif',\n",
       "  '4': '/images/tmp3.tif',\n",
       "  '5': '/images/tmp4.tif',\n",
       "  '6': '/images/tmp5.tif'},\n",
       " 'raw_storage_path': {'1': '/files/0014SET/000/IMG_0000_1.tif',\n",
       "  '2': '/files/0014SET/000/IMG_0000_2.tif',\n",
       "  '3': '/files/0014SET/000/IMG_0000_3.tif',\n",
       "  '4': '/files/0014SET/000/IMG_0000_4.tif',\n",
       "  '5': '/files/0014SET/000/IMG_0000_5.tif',\n",
       "  '6': '/files/0014SET/000/IMG_0000_6.tif'},\n",
       " 'status': 'complete',\n",
       " 'time': '1970-01-01T00:00:35.371315Z'}"
      ]
     },
     "execution_count": 8,
     "metadata": {},
     "output_type": "execute_result"
    }
   ],
   "source": [
    "response_json = response.json()\n",
    "response_json"
   ]
  },
  {
   "cell_type": "code",
   "execution_count": 15,
   "metadata": {},
   "outputs": [],
   "source": [
    "capture_nr = response_json.get(\"raw_storage_path\").get(\"1\").split(\"/\")[2]"
   ]
  },
  {
   "cell_type": "code",
   "execution_count": 17,
   "metadata": {},
   "outputs": [],
   "source": [
    "if not os.path.exists(output_dir):\n",
    "    os.makedirs(output_dir)\n",
    "    print(f\"created directory {output_dir}\")"
   ]
  },
  {
   "cell_type": "code",
   "execution_count": 20,
   "metadata": {},
   "outputs": [
    {
     "name": "stdout",
     "output_type": "stream",
     "text": [
      "1 /images/tmp0.tif\n",
      "http://192.168.10.254/images/tmp0.tif\n",
      "Saving channel 1 to /home/anna/Obrazy/multispectral/from_http/0014SET/IMG_0000_1.tif\n",
      "2 /images/tmp1.tif\n",
      "http://192.168.10.254/images/tmp1.tif\n",
      "Saving channel 2 to /home/anna/Obrazy/multispectral/from_http/0014SET/IMG_0000_2.tif\n",
      "3 /images/tmp2.tif\n",
      "http://192.168.10.254/images/tmp2.tif\n",
      "Saving channel 3 to /home/anna/Obrazy/multispectral/from_http/0014SET/IMG_0000_3.tif\n",
      "4 /images/tmp3.tif\n",
      "http://192.168.10.254/images/tmp3.tif\n",
      "Saving channel 4 to /home/anna/Obrazy/multispectral/from_http/0014SET/IMG_0000_4.tif\n",
      "5 /images/tmp4.tif\n",
      "http://192.168.10.254/images/tmp4.tif\n",
      "Saving channel 5 to /home/anna/Obrazy/multispectral/from_http/0014SET/IMG_0000_5.tif\n",
      "6 /images/tmp5.tif\n",
      "http://192.168.10.254/images/tmp5.tif\n",
      "Saving channel 6 to /home/anna/Obrazy/multispectral/from_http/0014SET/IMG_0000_6.tif\n"
     ]
    }
   ],
   "source": [
    "for ch, path in response_json.get(\"raw_cache_path\").items():\n",
    "    photo_nr = response_json.get(\"raw_storage_path\").get(ch).split(\"/\")[4]\n",
    "\n",
    "    photo_url = \"http://192.168.10.254\" + path\n",
    "    response = requests.get(photo_url)\n",
    "    \n",
    "    output_file = os.path.join(output_dir, capture_nr, photo_nr)\n",
    "    print(f\"Saving channel {ch} to {output_file}\")\n",
    "\n",
    "    with open(output_file, 'wb') as file:\n",
    "        file.write(response.content)\n"
   ]
  },
  {
   "cell_type": "code",
   "execution_count": 23,
   "metadata": {},
   "outputs": [
    {
     "data": {
      "text/plain": [
       "200"
      ]
     },
     "execution_count": 23,
     "metadata": {},
     "output_type": "execute_result"
    }
   ],
   "source": [
    "response.status_code"
   ]
  },
  {
   "cell_type": "code",
   "execution_count": 27,
   "metadata": {},
   "outputs": [
    {
     "data": {
      "text/plain": [
       "'http://192.168.10.254/captureIMG_0000_0.tiff'"
      ]
     },
     "execution_count": 27,
     "metadata": {},
     "output_type": "execute_result"
    }
   ],
   "source": [
    "status_code = 200\n",
    "image_nr = 0\n",
    "channel_nr = 0\n",
    "f\"{url}IMG_{image_nr:04}_{channel_nr}.tiff\""
   ]
  },
  {
   "cell_type": "code",
   "execution_count": null,
   "metadata": {},
   "outputs": [],
   "source": []
  }
 ],
 "metadata": {
  "kernelspec": {
   "display_name": "micasense",
   "language": "python",
   "name": "python3"
  },
  "language_info": {
   "codemirror_mode": {
    "name": "ipython",
    "version": 3
   },
   "file_extension": ".py",
   "mimetype": "text/x-python",
   "name": "python",
   "nbconvert_exporter": "python",
   "pygments_lexer": "ipython3",
   "version": "3.8.20"
  }
 },
 "nbformat": 4,
 "nbformat_minor": 2
}
